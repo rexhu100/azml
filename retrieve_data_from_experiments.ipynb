{
 "cells": [
  {
   "cell_type": "markdown",
   "id": "6ae30871-3f52-415d-a1af-c891c3d9ff0c",
   "metadata": {},
   "source": [
    "## Retrieve metrics, logs and other outputs from experiment runs\n",
    "\n",
    "As seen before, experiments can be run multiple times and different results can be logged. We probably need to monitor these runs, and to do so we need to be able to retrieve the information that were logged during these runs. That is the topics of this notebook."
   ]
  },
  {
   "cell_type": "code",
   "execution_count": 1,
   "id": "026acbcc-f63a-4145-9873-767b3ae8c514",
   "metadata": {},
   "outputs": [
    {
     "name": "stdout",
     "output_type": "stream",
     "text": [
      "Working in Azure ML Workspace azml-sdk\n"
     ]
    }
   ],
   "source": [
    "from azureml.core import Workspace\n",
    "\n",
    "ws = Workspace.from_config()\n",
    "\n",
    "print(f\"Working in Azure ML Workspace {ws.name}\")"
   ]
  },
  {
   "cell_type": "markdown",
   "id": "9e7a2109-cc3e-4c08-af4f-aeeeacb7a79a",
   "metadata": {},
   "source": [
    "List all experiments in the Workspace"
   ]
  },
  {
   "cell_type": "code",
   "execution_count": 2,
   "id": "4b98e20a-4ceb-41b6-93c4-cb808da70e42",
   "metadata": {},
   "outputs": [
    {
     "name": "stdout",
     "output_type": "stream",
     "text": [
      "{'diabetes-local': Experiment(Name: diabetes-local,\n",
      "Workspace: azml-sdk), 'diabetes-local-mlflow': Experiment(Name: diabetes-local-mlflow,\n",
      "Workspace: azml-sdk)}\n"
     ]
    }
   ],
   "source": [
    "print(ws.experiments)"
   ]
  },
  {
   "cell_type": "markdown",
   "id": "6790ff34-79eb-4452-9ca2-06864d269868",
   "metadata": {},
   "source": [
    "List the run history of a given experiment"
   ]
  },
  {
   "cell_type": "code",
   "execution_count": 10,
   "id": "6bc7cfbb-663e-4bab-80a4-24c6ab12d9df",
   "metadata": {},
   "outputs": [
    {
     "name": "stdout",
     "output_type": "stream",
     "text": [
      "Run(Experiment: diabetes-local,\n",
      "Id: diabetes-local_1623274658_cc67aebc,\n",
      "Type: azureml.scriptrun,\n",
      "Status: Completed)\n",
      "Run(Experiment: diabetes-local,\n",
      "Id: 0e84a2f5-5c34-417e-9d8b-bb203b058fbd,\n",
      "Type: None,\n",
      "Status: Completed)\n",
      "Run(Experiment: diabetes-local,\n",
      "Id: 5d8e651e-8956-47e8-a076-856eed36d74e,\n",
      "Type: None,\n",
      "Status: Canceled)\n",
      "Run(Experiment: diabetes-local,\n",
      "Id: d8311fb3-c5f9-4eca-a157-8c7af795566d,\n",
      "Type: None,\n",
      "Status: Canceled)\n",
      "Run(Experiment: diabetes-local,\n",
      "Id: 046b0eab-6ea3-4af0-8c04-5a22c78fcce2,\n",
      "Type: None,\n",
      "Status: Canceled)\n",
      "Run(Experiment: diabetes-local,\n",
      "Id: diabetes-local_1623215754_45eb5142,\n",
      "Type: azureml.scriptrun,\n",
      "Status: Completed)\n"
     ]
    },
    {
     "data": {
      "text/html": [
       "<table style=\"width:100%\"><tr><th>Experiment</th><th>Id</th><th>Type</th><th>Status</th><th>Details Page</th><th>Docs Page</th></tr><tr><td>diabetes-local</td><td>937f8983-df50-41fc-a147-619bd7379d19</td><td></td><td>Completed</td><td><a href=\"https://ml.azure.com/runs/937f8983-df50-41fc-a147-619bd7379d19?wsid=/subscriptions/e6195ec1-51fe-4f2b-ba59-809f64544642/resourcegroups/azml-tutorials/workspaces/azml-sdk&amp;tid=37e91b6c-3707-4f6c-96d4-48a1d2e55375\" target=\"_blank\" rel=\"noopener\">Link to Azure Machine Learning studio</a></td><td><a href=\"https://docs.microsoft.com/en-us/python/api/azureml-core/azureml.core.run.Run?view=azure-ml-py\" target=\"_blank\" rel=\"noopener\">Link to Documentation</a></td></tr></table>"
      ],
      "text/plain": [
       "Run(Experiment: diabetes-local,\n",
       "Id: 937f8983-df50-41fc-a147-619bd7379d19,\n",
       "Type: None,\n",
       "Status: Completed)"
      ]
     },
     "execution_count": 10,
     "metadata": {},
     "output_type": "execute_result"
    }
   ],
   "source": [
    "diabetes_local_exp = ws.experiments['diabetes-local']\n",
    "runs = diabetes_local_exp.get_runs()  # a generator\n",
    "\n",
    "# We just list the first 5 runs in the list\n",
    "for i, run in enumerate(runs):\n",
    "    print(run)\n",
    "    if i == 5:\n",
    "        break\n",
    "        \n",
    "# Show more details for aparticular run\n",
    "run_instance = next(runs)\n",
    "run_instance"
   ]
  },
  {
   "cell_type": "markdown",
   "id": "08e76bda-f907-471a-a38d-0eea6ce9025e",
   "metadata": {},
   "source": [
    "List all metrics from a specific run"
   ]
  },
  {
   "cell_type": "code",
   "execution_count": 14,
   "id": "c69d0b1e-1201-4371-bbcd-22a6ac53de8e",
   "metadata": {},
   "outputs": [
    {
     "name": "stdout",
     "output_type": "stream",
     "text": [
      "observations: 10000\n",
      "\n",
      "data columns: ['PatientID', 'Pregnancies', 'PlasmaGlucose', 'DiastolicBloodPressure', 'TricepsThickness', 'SerumInsulin', 'BMI', 'DiabetesPedigree', 'Age', 'Diabetic']\n",
      "\n",
      "categorical columns: Pregnancies\n",
      "\n",
      "numerical columns: ['PlasmaGlucose', 'DiastolicBloodPressure', 'TricepsThickness', 'SerumInsulin', 'BMI']\n",
      "\n",
      "PlasmaGlucose: {'stat': ['count', 'mean', 'std', 'min', '25%', '50%', '75%', 'max'], 'value': [10000.0, 107.8502, 31.92090936056554, 44.0, 84.0, 105.0, 129.0, 192.0]}\n",
      "\n",
      "DiastolicBloodPressure: {'stat': ['count', 'mean', 'std', 'min', '25%', '50%', '75%', 'max'], 'value': [10000.0, 71.2075, 16.80147828964082, 24.0, 58.0, 72.0, 85.0, 117.0]}\n",
      "\n",
      "TricepsThickness: {'stat': ['count', 'mean', 'std', 'min', '25%', '50%', '75%', 'max'], 'value': [10000.0, 28.8176, 14.506480415228355, 7.0, 15.0, 31.0, 41.0, 92.0]}\n",
      "\n",
      "SerumInsulin: {'stat': ['count', 'mean', 'std', 'min', '25%', '50%', '75%', 'max'], 'value': [10000.0, 139.2436, 133.77791937465324, 14.0, 39.0, 85.0, 197.0, 796.0]}\n",
      "\n",
      "BMI: {'stat': ['count', 'mean', 'std', 'min', '25%', '50%', '75%', 'max'], 'value': [10000.0, 31.567021743591003, 9.804365693559133, 18.20080735, 21.247426835, 31.922420785, 39.3289214475, 56.03462763]}\n",
      "\n",
      "label distribution: aml://artifactId/ExperimentRun/dcid.937f8983-df50-41fc-a147-619bd7379d19/label distribution_1623215750.png\n",
      "\n"
     ]
    }
   ],
   "source": [
    "run_metrics = run_instance.get_metrics()\n",
    "for key, val in run_metrics.items():\n",
    "    print(f\"{key}: {val}\\n\")"
   ]
  },
  {
   "cell_type": "markdown",
   "id": "5494295e-cfeb-4016-a46d-1f1957389815",
   "metadata": {},
   "source": [
    "Reconstruct pandas DataFrame from the logged rows"
   ]
  },
  {
   "cell_type": "code",
   "execution_count": 18,
   "id": "7a884bd7-0179-4ca7-a1dd-45531a6a991d",
   "metadata": {},
   "outputs": [
    {
     "data": {
      "text/html": [
       "<div>\n",
       "<style scoped>\n",
       "    .dataframe tbody tr th:only-of-type {\n",
       "        vertical-align: middle;\n",
       "    }\n",
       "\n",
       "    .dataframe tbody tr th {\n",
       "        vertical-align: top;\n",
       "    }\n",
       "\n",
       "    .dataframe thead th {\n",
       "        text-align: right;\n",
       "    }\n",
       "</style>\n",
       "<table border=\"1\" class=\"dataframe\">\n",
       "  <thead>\n",
       "    <tr style=\"text-align: right;\">\n",
       "      <th></th>\n",
       "      <th>stat</th>\n",
       "      <th>value</th>\n",
       "    </tr>\n",
       "  </thead>\n",
       "  <tbody>\n",
       "    <tr>\n",
       "      <th>0</th>\n",
       "      <td>count</td>\n",
       "      <td>10000.000000</td>\n",
       "    </tr>\n",
       "    <tr>\n",
       "      <th>1</th>\n",
       "      <td>mean</td>\n",
       "      <td>107.850200</td>\n",
       "    </tr>\n",
       "    <tr>\n",
       "      <th>2</th>\n",
       "      <td>std</td>\n",
       "      <td>31.920909</td>\n",
       "    </tr>\n",
       "    <tr>\n",
       "      <th>3</th>\n",
       "      <td>min</td>\n",
       "      <td>44.000000</td>\n",
       "    </tr>\n",
       "    <tr>\n",
       "      <th>4</th>\n",
       "      <td>25%</td>\n",
       "      <td>84.000000</td>\n",
       "    </tr>\n",
       "    <tr>\n",
       "      <th>5</th>\n",
       "      <td>50%</td>\n",
       "      <td>105.000000</td>\n",
       "    </tr>\n",
       "    <tr>\n",
       "      <th>6</th>\n",
       "      <td>75%</td>\n",
       "      <td>129.000000</td>\n",
       "    </tr>\n",
       "    <tr>\n",
       "      <th>7</th>\n",
       "      <td>max</td>\n",
       "      <td>192.000000</td>\n",
       "    </tr>\n",
       "  </tbody>\n",
       "</table>\n",
       "</div>"
      ],
      "text/plain": [
       "    stat         value\n",
       "0  count  10000.000000\n",
       "1   mean    107.850200\n",
       "2    std     31.920909\n",
       "3    min     44.000000\n",
       "4    25%     84.000000\n",
       "5    50%    105.000000\n",
       "6    75%    129.000000\n",
       "7    max    192.000000"
      ]
     },
     "execution_count": 18,
     "metadata": {},
     "output_type": "execute_result"
    }
   ],
   "source": [
    "import pandas as pd\n",
    "\n",
    "pd.DataFrame(data=run_metrics[\"PlasmaGlucose\"])"
   ]
  },
  {
   "cell_type": "code",
   "execution_count": null,
   "id": "e50d9352-2e8a-46b9-b963-e3116ff8f0c8",
   "metadata": {},
   "outputs": [],
   "source": []
  }
 ],
 "metadata": {
  "kernelspec": {
   "display_name": "Python 3",
   "language": "python",
   "name": "python3"
  },
  "language_info": {
   "codemirror_mode": {
    "name": "ipython",
    "version": 3
   },
   "file_extension": ".py",
   "mimetype": "text/x-python",
   "name": "python",
   "nbconvert_exporter": "python",
   "pygments_lexer": "ipython3",
   "version": "3.6.13"
  }
 },
 "nbformat": 4,
 "nbformat_minor": 5
}
