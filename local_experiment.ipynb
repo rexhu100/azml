{
 "cells": [
  {
   "cell_type": "markdown",
   "id": "169ea6e6-decd-4cb4-b8cb-a5a190681869",
   "metadata": {},
   "source": [
    "## Running experiments with local resources\n",
    "\n",
    "In this example, all the compute and storage are local, and we only use Azure to log the metrics from our experiments"
   ]
  },
  {
   "cell_type": "code",
   "execution_count": 1,
   "id": "4c5221eb-824d-4f33-a60c-391c9ce7b506",
   "metadata": {},
   "outputs": [
    {
     "name": "stdout",
     "output_type": "stream",
     "text": [
      "Using azml-sdk with version 1.30.0\n"
     ]
    }
   ],
   "source": [
    "import azureml.core\n",
    "from azureml.core import Workspace\n",
    "\n",
    "ws = Workspace.from_config()\n",
    "\n",
    "print(f\"Using {ws.name} with version {azureml.core.VERSION}\")"
   ]
  },
  {
   "cell_type": "code",
   "execution_count": 3,
   "id": "0e369123-d8f4-445a-9f67-e9f46e93b909",
   "metadata": {},
   "outputs": [
    {
     "name": "stdout",
     "output_type": "stream",
     "text": [
      "Starting experiment: diabetes-local\n"
     ]
    }
   ],
   "source": [
    "from azureml.core import Experiment\n",
    "import pandas as pd\n",
    "\n",
    "experiment = Experiment(workspace=ws, name=\"diabetes-local\")\n",
    "run = experiment.start_logging()\n",
    "print(f\"Starting experiment: {experiment.name}\")"
   ]
  },
  {
   "cell_type": "code",
   "execution_count": null,
   "id": "c0a7df93-b54d-4df9-9b13-fd06f5798e8e",
   "metadata": {},
   "outputs": [],
   "source": []
  }
 ],
 "metadata": {
  "kernelspec": {
   "display_name": "Python 3",
   "language": "python",
   "name": "python3"
  },
  "language_info": {
   "codemirror_mode": {
    "name": "ipython",
    "version": 3
   },
   "file_extension": ".py",
   "mimetype": "text/x-python",
   "name": "python",
   "nbconvert_exporter": "python",
   "pygments_lexer": "ipython3",
   "version": "3.8.10"
  }
 },
 "nbformat": 4,
 "nbformat_minor": 5
}
