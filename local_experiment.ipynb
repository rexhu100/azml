{
 "cells": [
  {
   "cell_type": "markdown",
   "id": "169ea6e6-decd-4cb4-b8cb-a5a190681869",
   "metadata": {},
   "source": [
    "## Running experiments with local resources Azure native logging\n",
    "\n",
    "In this example, all the compute and storage are local, and we only use Azure to log the metrics from our experiments"
   ]
  },
  {
   "cell_type": "code",
   "execution_count": 1,
   "id": "4c5221eb-824d-4f33-a60c-391c9ce7b506",
   "metadata": {},
   "outputs": [
    {
     "name": "stdout",
     "output_type": "stream",
     "text": [
      "Using azml-sdk with version 1.30.0\n"
     ]
    }
   ],
   "source": [
    "import azureml.core\n",
    "from azureml.core import Workspace\n",
    "\n",
    "ws = Workspace.from_config()\n",
    "\n",
    "print(f\"Using {ws.name} with version {azureml.core.VERSION}\")"
   ]
  },
  {
   "cell_type": "markdown",
   "id": "3cd13d60-bb78-4324-9a58-d0c490e9e206",
   "metadata": {},
   "source": [
    "### Method 1: Running an experiment interactively from Jupyter"
   ]
  },
  {
   "cell_type": "markdown",
   "id": "9f58577c-30a1-40a0-a5b6-18790af5d6f5",
   "metadata": {},
   "source": [
    "Read data into a Pandas DataFrame"
   ]
  },
  {
   "cell_type": "code",
   "execution_count": 2,
   "id": "c0a7df93-b54d-4df9-9b13-fd06f5798e8e",
   "metadata": {},
   "outputs": [
    {
     "data": {
      "text/html": [
       "<div>\n",
       "<style scoped>\n",
       "    .dataframe tbody tr th:only-of-type {\n",
       "        vertical-align: middle;\n",
       "    }\n",
       "\n",
       "    .dataframe tbody tr th {\n",
       "        vertical-align: top;\n",
       "    }\n",
       "\n",
       "    .dataframe thead th {\n",
       "        text-align: right;\n",
       "    }\n",
       "</style>\n",
       "<table border=\"1\" class=\"dataframe\">\n",
       "  <thead>\n",
       "    <tr style=\"text-align: right;\">\n",
       "      <th></th>\n",
       "      <th>PatientID</th>\n",
       "      <th>Pregnancies</th>\n",
       "      <th>PlasmaGlucose</th>\n",
       "      <th>DiastolicBloodPressure</th>\n",
       "      <th>TricepsThickness</th>\n",
       "      <th>SerumInsulin</th>\n",
       "      <th>BMI</th>\n",
       "      <th>DiabetesPedigree</th>\n",
       "      <th>Age</th>\n",
       "      <th>Diabetic</th>\n",
       "    </tr>\n",
       "  </thead>\n",
       "  <tbody>\n",
       "    <tr>\n",
       "      <th>0</th>\n",
       "      <td>1354778</td>\n",
       "      <td>0</td>\n",
       "      <td>171</td>\n",
       "      <td>80</td>\n",
       "      <td>34</td>\n",
       "      <td>23</td>\n",
       "      <td>43.509726</td>\n",
       "      <td>1.213191</td>\n",
       "      <td>21</td>\n",
       "      <td>0</td>\n",
       "    </tr>\n",
       "    <tr>\n",
       "      <th>1</th>\n",
       "      <td>1147438</td>\n",
       "      <td>8</td>\n",
       "      <td>92</td>\n",
       "      <td>93</td>\n",
       "      <td>47</td>\n",
       "      <td>36</td>\n",
       "      <td>21.240576</td>\n",
       "      <td>0.158365</td>\n",
       "      <td>23</td>\n",
       "      <td>0</td>\n",
       "    </tr>\n",
       "    <tr>\n",
       "      <th>2</th>\n",
       "      <td>1640031</td>\n",
       "      <td>7</td>\n",
       "      <td>115</td>\n",
       "      <td>47</td>\n",
       "      <td>52</td>\n",
       "      <td>35</td>\n",
       "      <td>41.511523</td>\n",
       "      <td>0.079019</td>\n",
       "      <td>23</td>\n",
       "      <td>0</td>\n",
       "    </tr>\n",
       "    <tr>\n",
       "      <th>3</th>\n",
       "      <td>1883350</td>\n",
       "      <td>9</td>\n",
       "      <td>103</td>\n",
       "      <td>78</td>\n",
       "      <td>25</td>\n",
       "      <td>304</td>\n",
       "      <td>29.582192</td>\n",
       "      <td>1.282870</td>\n",
       "      <td>43</td>\n",
       "      <td>1</td>\n",
       "    </tr>\n",
       "    <tr>\n",
       "      <th>4</th>\n",
       "      <td>1424119</td>\n",
       "      <td>1</td>\n",
       "      <td>85</td>\n",
       "      <td>59</td>\n",
       "      <td>27</td>\n",
       "      <td>35</td>\n",
       "      <td>42.604536</td>\n",
       "      <td>0.549542</td>\n",
       "      <td>22</td>\n",
       "      <td>0</td>\n",
       "    </tr>\n",
       "  </tbody>\n",
       "</table>\n",
       "</div>"
      ],
      "text/plain": [
       "   PatientID  Pregnancies  PlasmaGlucose  DiastolicBloodPressure  \\\n",
       "0    1354778            0            171                      80   \n",
       "1    1147438            8             92                      93   \n",
       "2    1640031            7            115                      47   \n",
       "3    1883350            9            103                      78   \n",
       "4    1424119            1             85                      59   \n",
       "\n",
       "   TricepsThickness  SerumInsulin        BMI  DiabetesPedigree  Age  Diabetic  \n",
       "0                34            23  43.509726          1.213191   21         0  \n",
       "1                47            36  21.240576          0.158365   23         0  \n",
       "2                52            35  41.511523          0.079019   23         0  \n",
       "3                25           304  29.582192          1.282870   43         1  \n",
       "4                27            35  42.604536          0.549542   22         0  "
      ]
     },
     "execution_count": 2,
     "metadata": {},
     "output_type": "execute_result"
    }
   ],
   "source": [
    "import pandas as pd\n",
    "\n",
    "df = pd.read_csv(\"data/diabetes.csv\")\n",
    "df.head()"
   ]
  },
  {
   "cell_type": "code",
   "execution_count": 3,
   "id": "4f06047a-e50e-41c4-b56e-d13174a66e3a",
   "metadata": {},
   "outputs": [],
   "source": [
    "cat_cols = [\"Pregnancies\"]\n",
    "num_cols = ['PlasmaGlucose', 'DiastolicBloodPressure', 'TricepsThickness', 'SerumInsulin', 'BMI']"
   ]
  },
  {
   "cell_type": "code",
   "execution_count": 4,
   "id": "be06a2bd-cdf0-4b40-b523-6e6c74f18f70",
   "metadata": {},
   "outputs": [
    {
     "data": {
      "text/plain": [
       "{'PlasmaGlucose': {'count': 10000.0,\n",
       "  'mean': 107.8502,\n",
       "  'std': 31.92090936056554,\n",
       "  'min': 44.0,\n",
       "  '25%': 84.0,\n",
       "  '50%': 105.0,\n",
       "  '75%': 129.0,\n",
       "  'max': 192.0},\n",
       " 'DiastolicBloodPressure': {'count': 10000.0,\n",
       "  'mean': 71.2075,\n",
       "  'std': 16.80147828964082,\n",
       "  'min': 24.0,\n",
       "  '25%': 58.0,\n",
       "  '50%': 72.0,\n",
       "  '75%': 85.0,\n",
       "  'max': 117.0},\n",
       " 'TricepsThickness': {'count': 10000.0,\n",
       "  'mean': 28.8176,\n",
       "  'std': 14.506480415228355,\n",
       "  'min': 7.0,\n",
       "  '25%': 15.0,\n",
       "  '50%': 31.0,\n",
       "  '75%': 41.0,\n",
       "  'max': 92.0},\n",
       " 'SerumInsulin': {'count': 10000.0,\n",
       "  'mean': 139.2436,\n",
       "  'std': 133.77791937465324,\n",
       "  'min': 14.0,\n",
       "  '25%': 39.0,\n",
       "  '50%': 85.0,\n",
       "  '75%': 197.0,\n",
       "  'max': 796.0},\n",
       " 'BMI': {'count': 10000.0,\n",
       "  'mean': 31.567021743591003,\n",
       "  'std': 9.804365693559133,\n",
       "  'min': 18.20080735,\n",
       "  '25%': 21.247426835,\n",
       "  '50%': 31.922420785,\n",
       "  '75%': 39.3289214475,\n",
       "  'max': 56.03462763}}"
      ]
     },
     "execution_count": 4,
     "metadata": {},
     "output_type": "execute_result"
    }
   ],
   "source": [
    "df[num_cols].describe().to_dict()"
   ]
  },
  {
   "cell_type": "markdown",
   "id": "95bf7150-ebba-4222-b604-9e3c943d189f",
   "metadata": {},
   "source": [
    "Create or get the experiment, and then start a new run."
   ]
  },
  {
   "cell_type": "code",
   "execution_count": 5,
   "id": "0e369123-d8f4-445a-9f67-e9f46e93b909",
   "metadata": {},
   "outputs": [
    {
     "name": "stdout",
     "output_type": "stream",
     "text": [
      "Starting experiment: diabetes-local\n"
     ]
    }
   ],
   "source": [
    "from azureml.core import Experiment\n",
    "\n",
    "experiment = Experiment(workspace=ws, name=\"diabetes-local\")\n",
    "run = experiment.start_logging()\n",
    "print(f\"Starting experiment: {experiment.name}\")"
   ]
  },
  {
   "cell_type": "markdown",
   "id": "5600fd3c-5fd8-4654-8b2d-e2f10d558e01",
   "metadata": {},
   "source": [
    "Log some basic metircs"
   ]
  },
  {
   "cell_type": "code",
   "execution_count": 6,
   "id": "a4191bd8-5862-4142-85a8-9775f85001c8",
   "metadata": {},
   "outputs": [],
   "source": [
    "row_count = df.shape[0]\n",
    "run.log(\"observations\", row_count)  # Log a number\n",
    "run.log_list(\"data columns\", df.columns)  # Log a list of strings\n",
    "run.log_list(\"categorical columns\", cat_cols)\n",
    "run.log_list(\"numerical columns\", num_cols)"
   ]
  },
  {
   "cell_type": "markdown",
   "id": "46e507cf-1fa4-4de2-b0a2-561acac77d91",
   "metadata": {},
   "source": [
    "The `log_row` method will keep appending to `stat` and `value` under the same column name"
   ]
  },
  {
   "cell_type": "code",
   "execution_count": 7,
   "id": "3c086c44-b47b-4ab1-82b4-ad1c464b10a1",
   "metadata": {},
   "outputs": [],
   "source": [
    "summary_stats = df[num_cols].describe().to_dict()\n",
    "for col_name, stat_dict in summary_stats.items():\n",
    "    for stat_name, val in stat_dict.items():\n",
    "        run.log_row(col_name, stat=stat_name, value=val)  # Logging rows"
   ]
  },
  {
   "cell_type": "code",
   "execution_count": 8,
   "id": "4969be19-8ecd-4fa8-8107-a2b7f30733df",
   "metadata": {},
   "outputs": [
    {
     "data": {
      "image/png": "[encoded data removed]",
      "text/plain": [
       "<Figure size 432x432 with 1 Axes>"
      ]
     },
     "metadata": {
      "needs_background": "light"
     },
     "output_type": "display_data"
    }
   ],
   "source": [
    "import matplotlib.pyplot as plt\n",
    "\n",
    "diabetic_counts = df['Diabetic'].value_counts()\n",
    "\n",
    "fig = plt.figure(figsize=(6,6))\n",
    "ax = fig.gca()    \n",
    "diabetic_counts.plot.bar(ax = ax) \n",
    "ax.set_title('Patients with Diabetes') \n",
    "ax.set_xlabel('Diagnosis') \n",
    "ax.set_ylabel('Patients')\n",
    "\n",
    "run.log_image(name='label distribution', plot=fig)  # Log an image"
   ]
  },
  {
   "cell_type": "code",
   "execution_count": 9,
   "id": "76d4e1f5-c893-4c94-9be1-d2afa85bd054",
   "metadata": {},
   "outputs": [
    {
     "data": {
      "text/plain": [
       "<azureml._restclient.models.batch_artifact_content_information_dto.BatchArtifactContentInformationDto at 0x20e80ba0710>"
      ]
     },
     "execution_count": 9,
     "metadata": {},
     "output_type": "execute_result"
    }
   ],
   "source": [
    "df.sample(100).to_csv(\"sample.csv\", index=False)\n",
    "run.upload_file(name='outputs/sample.csv', path_or_stream='./sample.csv')"
   ]
  },
  {
   "cell_type": "code",
   "execution_count": 10,
   "id": "0e7d03f1-9437-481f-aab6-fe4c824a433d",
   "metadata": {},
   "outputs": [],
   "source": [
    "run.complete()"
   ]
  },
  {
   "cell_type": "markdown",
   "id": "fed44b96-2ade-4295-90d6-26759f9b9cd6",
   "metadata": {},
   "source": [
    "### Method 2: Running an experiment from a Python Script\n",
    "\n",
    "This is very similar to running thins interactively. However, note the following:\n",
    "- It uses the `Run.get_context()` method to retrieve the experiment run context when the script is run.\n",
    "- It loads the diabetes data from the folder where the script is located.\n",
    "- It creates a folder named **outputs** and writes the sample file to it - this folder is automatically uploaded to the experiment run"
   ]
  },
  {
   "cell_type": "code",
   "execution_count": 11,
   "id": "0eca1a75-a451-4638-a5a0-bfbf74a09ccb",
   "metadata": {},
   "outputs": [
    {
     "data": {
      "text/plain": [
       "'diabetes-local-experiment\\\\diabetes.csv'"
      ]
     },
     "execution_count": 11,
     "metadata": {},
     "output_type": "execute_result"
    }
   ],
   "source": [
    "import os, shutil\n",
    "\n",
    "# Setting up the folder for the experiment script\n",
    "folder_name = \"diabetes-local-experiment\"\n",
    "experiment_folder = './' + folder_name\n",
    "os.makedirs(folder_name, exist_ok=True)\n",
    "\n",
    "shutil.copy(\"data/diabetes.csv\", os.path.join(folder_name, \"diabetes.csv\"))"
   ]
  },
  {
   "cell_type": "markdown",
   "id": "c10fd078-5113-45c3-adea-d2724b326651",
   "metadata": {},
   "source": [
    "Create a python script `diabetes_experiment.py` which runs the experiment. The folder `outputs` will b"
   ]
  },
  {
   "cell_type": "code",
   "execution_count": 12,
   "id": "abefa919-370f-4955-97bd-7db750acf453",
   "metadata": {},
   "outputs": [
    {
     "name": "stdout",
     "output_type": "stream",
     "text": [
      "Overwriting diabetes-local-experiment/diabetes_experiment.py\n"
     ]
    }
   ],
   "source": [
    "%%writefile $folder_name/diabetes_experiment.py\n",
    "\n",
    "from azureml.core import Run\n",
    "import pandas as pd\n",
    "\n",
    "df = pd.read_csv(\"diabetes.csv\")\n",
    "\n",
    "# This is the main difference from the interactive run from Jupyter\n",
    "run = Run.get_context()\n",
    "\n",
    "cat_cols = [\"Pregnancies\"]\n",
    "num_cols = ['PlasmaGlucose', 'DiastolicBloodPressure', 'TricepsThickness', 'SerumInsulin', 'BMI']\n",
    "\n",
    "# Log some basic metrics\n",
    "row_count = df.shape[0]\n",
    "run.log(\"observations\", row_count)  # Log a number\n",
    "run.log_list(\"data columns\", df.columns)  # Log a list of strings\n",
    "run.log_list(\"categorical columns\", cat_cols)\n",
    "run.log_list(\"numerical columns\", num_cols)\n",
    "\n",
    "# Log descriptive statistics\n",
    "summary_stats = df[num_cols].describe().to_dict()\n",
    "for col_name, stat_dict in summary_stats.items():\n",
    "    for stat_name, val in stat_dict.items():\n",
    "        run.log_row(col_name, stat=stat_name, value=val)  # Logging rows\n",
    "\n",
    "\n",
    "# Log some image output\n",
    "import matplotlib.pyplot as plt\n",
    "\n",
    "diabetic_counts = df['Diabetic'].value_counts()\n",
    "\n",
    "fig = plt.figure(figsize=(6,6))\n",
    "ax = fig.gca()    \n",
    "diabetic_counts.plot.bar(ax = ax) \n",
    "ax.set_title('Patients with Diabetes') \n",
    "ax.set_xlabel('Diagnosis') \n",
    "ax.set_ylabel('Patients')\n",
    "\n",
    "run.log_image(name='label distribution', plot=fig)  # Log an image\n",
    "\n",
    "# Log some file\n",
    "os.makedirs(\"outputs\", exist_ok=True)\n",
    "df.sample(100).to_csv(\"outputs/sample.csv\", index=False)\n",
    "\n",
    "run.complete()"
   ]
  },
  {
   "cell_type": "markdown",
   "id": "6dfbbaeb-b698-4a7b-b771-153be688dec7",
   "metadata": {},
   "source": [
    "Now you're almost ready to run the experiment. To run the script, you must create a `ScriptRunConfig` that identifies the Python script file to be run in the experiment, and then run an experiment based on it. We can also specify compute target and storage in this object. We'll go over those in detail later."
   ]
  },
  {
   "cell_type": "code",
   "execution_count": 13,
   "id": "493bc264-c9a6-4aa6-8cbe-ca954bac1200",
   "metadata": {},
   "outputs": [],
   "source": [
    "from azureml.core import Experiment, ScriptRunConfig, Environment\n",
    "from azureml.core.conda_dependencies import CondaDependencies\n",
    "from azureml.widgets import RunDetails\n",
    "\n",
    "basic_env = Environment(\"pandas-env\")\n",
    "packages = CondaDependencies.create(\n",
    "    pip_packages=[\"pandas\"]\n",
    ")\n",
    "basic_env.python.conda_dependencies = packages\n",
    "basic_env.python.user_managed_dependencies = True\n",
    "\n",
    "script_config = ScriptRunConfig(\n",
    "    source_directory=experiment_folder,\n",
    "    script=\"diabetes_experiment.py\",\n",
    "    environment=basic_env\n",
    ")"
   ]
  },
  {
   "cell_type": "code",
   "execution_count": 14,
   "id": "49cf29fb-ed7f-458a-a88b-c9b83fb58f5d",
   "metadata": {},
   "outputs": [
    {
     "name": "stdout",
     "output_type": "stream",
     "text": [
      "RunId: diabetes-local_1623215754_45eb5142\n",
      "Web View: https://ml.azure.com/runs/diabetes-local_1623215754_45eb5142?wsid=/subscriptions/e6195ec1-51fe-4f2b-ba59-809f64544642/resourcegroups/azml-tutorials/workspaces/azml-sdk&tid=37e91b6c-3707-4f6c-96d4-48a1d2e55375\n",
      "\n",
      "Streaming azureml-logs/60_control_log.txt\n",
      "=========================================\n",
      "\n",
      "[2021-06-09T05:15:57.313082] Entering context manager injector.\n",
      "[2021-06-09T05:15:58.757600] Using urllib.request Python 3.0 or later\n",
      "Streaming log file azureml-logs/60_control_log.txt\n",
      "Running: ['cmd.exe', '/c', 'C:\\\\Users\\\\hu_zh\\\\AppData\\\\Local\\\\Temp\\\\azureml_runs\\\\diabetes-local_1623215754_45eb5142\\\\azureml-environment-setup/conda_env_checker.bat']\n",
      "\n",
      "Streaming azureml-logs/70_driver_log.txt\n",
      "========================================\n",
      "\n",
      "[2021-06-09T05:16:00.662030] Entering context manager injector.\n",
      "[context_manager_injector.py] Command line Options: Namespace(inject=['ProjectPythonPath:context_managers.ProjectPythonPath', 'RunHistory:context_managers.RunHistory', 'TrackUserError:context_managers.TrackUserError'], invocation=['diabetes_experiment.py'])\n",
      "Script type = None\n",
      "[2021-06-09T05:16:02.091033] Entering Run History Context Manager.\n",
      "[2021-06-09T05:16:05.989449] Current directory: C:\\Users\\hu_zh\\AppData\\Local\\Temp\\azureml_runs\\diabetes-local_1623215754_45eb5142\n",
      "[2021-06-09T05:16:05.989449] Preparing to call script [diabetes_experiment.py] with arguments:[]\n",
      "[2021-06-09T05:16:06.002023] After variable expansion, calling script [diabetes_experiment.py] with arguments:[]\n",
      "\n",
      "\n",
      "\n",
      "[2021-06-09T05:16:08.639150] The experiment completed successfully. Finalizing run...\n",
      "[2021-06-09T05:16:08.640148] Start FinalizingInRunHistory\n",
      "[2021-06-09T05:16:08.658124] Logging experiment finalizing status in history service.\n",
      "Starting the daemon thread to refresh tokens in background for process with pid = 14676\n",
      "Cleaning up all outstanding Run operations, waiting 300.0 seconds\n",
      "3 items cleaning up...\n",
      "Cleanup took 0.842818021774292 seconds\n",
      "[2021-06-09T05:16:11.658829] Finished context manager injector.\n",
      "\n",
      "Execution Summary\n",
      "=================\n",
      "RunId: diabetes-local_1623215754_45eb5142\n",
      "Web View: https://ml.azure.com/runs/diabetes-local_1623215754_45eb5142?wsid=/subscriptions/e6195ec1-51fe-4f2b-ba59-809f64544642/resourcegroups/azml-tutorials/workspaces/azml-sdk&tid=37e91b6c-3707-4f6c-96d4-48a1d2e55375\n",
      "\n"
     ]
    }
   ],
   "source": [
    "experiment = Experiment(workspace=ws, name=\"diabetes-local\")\n",
    "run = experiment.submit(config=script_config)\n",
    "# Not sure why the widget view doesn't work...\n",
    "# RunDetails(run).show()\n",
    "run_details = run.wait_for_completion(show_output=True)"
   ]
  },
  {
   "cell_type": "code",
   "execution_count": null,
   "id": "7828d192-6f11-4813-9456-7391d1e71baf",
   "metadata": {},
   "outputs": [],
   "source": []
  }
 ],
 "metadata": {
  "kernelspec": {
   "display_name": "Python 3",
   "language": "python",
   "name": "python3"
  },
  "language_info": {
   "codemirror_mode": {
    "name": "ipython",
    "version": 3
   },
   "file_extension": ".py",
   "mimetype": "text/x-python",
   "name": "python",
   "nbconvert_exporter": "python",
   "pygments_lexer": "ipython3",
   "version": "3.8.8"
  }
 },
 "nbformat": 4,
 "nbformat_minor": 5
}
