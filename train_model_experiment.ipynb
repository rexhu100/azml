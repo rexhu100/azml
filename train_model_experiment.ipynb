{
 "cells": [
  {
   "cell_type": "markdown",
   "id": "02a4efc9-7b79-4ae1-91ee-4fa01fd22352",
   "metadata": {},
   "source": [
    "## Train a model locally and log training metrics with Experiment\n",
    "\n",
    "We train a model on the local computer and use Experiment to log and retrieve metric and data."
   ]
  },
  {
   "cell_type": "code",
   "execution_count": 1,
   "id": "e18771a4-2042-456c-9cb7-0eb4b2b93a50",
   "metadata": {},
   "outputs": [
    {
     "name": "stdout",
     "output_type": "stream",
     "text": [
      "Using Azure ML azml-sdk\n"
     ]
    }
   ],
   "source": [
    "from azureml.core import Workspace\n",
    "\n",
    "ws = Workspace.from_config()\n",
    "print(f\"Using Azure ML {ws.name}\")"
   ]
  },
  {
   "cell_type": "markdown",
   "id": "155d9c9e-339e-4c9f-808b-58f2c6d367d6",
   "metadata": {},
   "source": [
    "### Train model and log metrics and files\n",
    "\n",
    "We can use Jupyter notebook to train a model interactively as we normally do, and use Experiment to log the training metrics. "
   ]
  },
  {
   "cell_type": "code",
   "execution_count": 2,
   "id": "66248318-51a2-42fe-9bda-bf1f607ce9b1",
   "metadata": {},
   "outputs": [],
   "source": [
    "from azureml.core import Experiment\n",
    "\n",
    "experiment = Experiment(workspace=ws, name=\"diabetes-model-train\")\n",
    "run = experiment.start_logging()"
   ]
  },
  {
   "cell_type": "code",
   "execution_count": 3,
   "id": "fe20505d-399d-42df-875e-08a9b5b9ba44",
   "metadata": {},
   "outputs": [],
   "source": [
    "import pandas as pd\n",
    "import numpy as np\n",
    "\n",
    "df = pd.read_csv(\"data/diabetes.csv\")"
   ]
  },
  {
   "cell_type": "code",
   "execution_count": 4,
   "id": "17aac46a-c129-4646-9f35-849b825902c1",
   "metadata": {},
   "outputs": [],
   "source": [
    "from sklearn.model_selection import train_test_split\n",
    "\n",
    "random_seed = 1830\n",
    "\n",
    "X, y = df[['Pregnancies','PlasmaGlucose','DiastolicBloodPressure','TricepsThickness','SerumInsulin','BMI','DiabetesPedigree','Age']], df['Diabetic']\n",
    "X_train, X_valid, y_train, y_valid = train_test_split(X, y, test_size=0.2, random_state=random_seed)\n",
    "\n",
    "run.log(\"train_test_split_random_state\", random_seed)"
   ]
  },
  {
   "cell_type": "code",
   "execution_count": 5,
   "id": "afe4ade7-5370-469a-9bc6-5fcb733aec67",
   "metadata": {},
   "outputs": [],
   "source": [
    "from sklearn.linear_model import LogisticRegression\n",
    "\n",
    "reg = 0.01\n",
    "run.log(\"regularization_rate\", reg)\n",
    "\n",
    "model_lr = LogisticRegression(C=1/reg, solver=\"liblinear\").fit(X_train, y_train)"
   ]
  },
  {
   "cell_type": "code",
   "execution_count": 6,
   "id": "c5c6cc58-a7ce-4bac-8e6f-cdd4e39b83bb",
   "metadata": {},
   "outputs": [],
   "source": [
    "from sklearn.metrics import roc_auc_score, plot_roc_curve\n",
    "\n",
    "y_valid_pred = model_lr.predict_proba(X_valid)\n",
    "auc = roc_auc_score(y_valid, y_valid_pred[:, 1])\n",
    "\n",
    "run.log(\"auc\", auc)"
   ]
  },
  {
   "cell_type": "code",
   "execution_count": 7,
   "id": "f67b3eb5-67b2-4526-b36b-20dd7627684a",
   "metadata": {},
   "outputs": [
    {
     "data": {
      "image/png": "[encoded data removed]",
      "text/plain": [
       "<Figure size 432x288 with 1 Axes>"
      ]
     },
     "metadata": {
      "needs_background": "light"
     },
     "output_type": "display_data"
    }
   ],
   "source": [
    "import matplotlib.pyplot as plt\n",
    "\n",
    "# fig = plt.figure(figsize=(6, 6))\n",
    "fig = plot_roc_curve(model_lr, X_valid, y_valid)\n",
    "run.log_image(name=\"ROC Curve\", plot=fig.figure_)"
   ]
  },
  {
   "cell_type": "code",
   "execution_count": 8,
   "id": "dc9f5c27-104b-4bec-b8c6-e277ca5efdf6",
   "metadata": {},
   "outputs": [
    {
     "data": {
      "text/plain": [
       "<azureml._restclient.models.batch_artifact_content_information_dto.BatchArtifactContentInformationDto at 0x22e1f0f7668>"
      ]
     },
     "execution_count": 8,
     "metadata": {},
     "output_type": "execute_result"
    }
   ],
   "source": [
    "import joblib\n",
    "\n",
    "model_file_name = \"diabetes_lr_model.pkl\"\n",
    "\n",
    "with open(model_file_name, \"wb\") as file:\n",
    "    joblib.dump(model_lr, file)\n",
    "    \n",
    "run.upload_file(model_file_name, model_file_name)"
   ]
  },
  {
   "cell_type": "code",
   "execution_count": 9,
   "id": "2aa4f5b2-80f2-4bce-9847-f31b6dbef280",
   "metadata": {},
   "outputs": [],
   "source": [
    "run.complete()"
   ]
  },
  {
   "cell_type": "code",
   "execution_count": 10,
   "id": "cbdbe669-20e1-445b-8863-872a308f529b",
   "metadata": {},
   "outputs": [
    {
     "data": {
      "text/plain": [
       "'https://ml.azure.com/runs/9609b4e9-7440-4c7c-a22a-d896a7876745?wsid=/subscriptions/e6195ec1-51fe-4f2b-ba59-809f64544642/resourcegroups/azml-tutorials/workspaces/azml-sdk&tid=37e91b6c-3707-4f6c-96d4-48a1d2e55375'"
      ]
     },
     "execution_count": 10,
     "metadata": {},
     "output_type": "execute_result"
    }
   ],
   "source": [
    "run.get_portal_url()"
   ]
  },
  {
   "cell_type": "markdown",
   "id": "6e8d8fea-ac61-4fb9-9457-ad5477c23433",
   "metadata": {},
   "source": [
    "<details>\n",
    "\n",
    "<summary>Title text here</summary>\n",
    "\n",
    "Collapsed text here.\n",
    "\n",
    "</details>"
   ]
  },
  {
   "cell_type": "code",
   "execution_count": null,
   "id": "d681c730-8fdb-45df-a192-54cd3429fd9c",
   "metadata": {},
   "outputs": [],
   "source": []
  }
 ],
 "metadata": {
  "kernelspec": {
   "display_name": "Python 3",
   "language": "python",
   "name": "python3"
  },
  "language_info": {
   "codemirror_mode": {
    "name": "ipython",
    "version": 3
   },
   "file_extension": ".py",
   "mimetype": "text/x-python",
   "name": "python",
   "nbconvert_exporter": "python",
   "pygments_lexer": "ipython3",
   "version": "3.6.13"
  }
 },
 "nbformat": 4,
 "nbformat_minor": 5
}
