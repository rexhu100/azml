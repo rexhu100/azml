{
 "cells": [
  {
   "cell_type": "markdown",
   "id": "319b9631-c5fd-4be5-b8bc-a4bbf28405c5",
   "metadata": {},
   "source": [
    "## Running experiments with local resources w/ MLflow\n",
    "\n",
    "In this example, all the compute and storage are local, and we are using MLflow to log the metrics of the experiment and serve that on Azure ML's URI."
   ]
  },
  {
   "cell_type": "code",
   "execution_count": 1,
   "id": "15951bb3-26eb-42e2-8405-7e2d380f0e9b",
   "metadata": {},
   "outputs": [
    {
     "name": "stdout",
     "output_type": "stream",
     "text": [
      "Working in Azure workspace azml-sdk with version 1.30.0\n"
     ]
    }
   ],
   "source": [
    "import azureml.core\n",
    "from azureml.core import Workspace\n",
    "\n",
    "ws = Workspace.from_config()\n",
    "\n",
    "print(f\"Working in Azure workspace {ws.name} with version {azureml.core.VERSION}\")"
   ]
  },
  {
   "cell_type": "markdown",
   "id": "3b3c7ea1-4670-4ca3-9fb8-f5f858a126bc",
   "metadata": {},
   "source": [
    "### Method 3: Running an experiment interactively with MLflow\n",
    "\n",
    "MLflow is an alternative to the native log functions. It is a platform agnostic framework for end2end ML work flow. "
   ]
  },
  {
   "cell_type": "code",
   "execution_count": 2,
   "id": "51200c0f-a968-4ca3-9e3c-197d8a6d0659",
   "metadata": {},
   "outputs": [
    {
     "name": "stdout",
     "output_type": "stream",
     "text": [
      "Starting experiment: diabetes-local-mlflow\n"
     ]
    },
    {
     "data": {
      "image/png": "[encoded data removed]",
      "text/plain": [
       "<Figure size 432x432 with 1 Axes>"
      ]
     },
     "metadata": {
      "needs_background": "light"
     },
     "output_type": "display_data"
    }
   ],
   "source": [
    "from azureml.core import Experiment\n",
    "import pandas as pd\n",
    "import mlflow\n",
    "import os\n",
    "\n",
    "mlflow.set_tracking_uri(ws.get_mlflow_tracking_uri())\n",
    "\n",
    "experiment = Experiment(workspace=ws, name=\"diabetes-local-mlflow\")\n",
    "mlflow.set_experiment(experiment.name)\n",
    "\n",
    "with mlflow.start_run():\n",
    "    print(f\"Starting experiment: {experiment.name}\")\n",
    "    \n",
    "    df = pd.read_csv(\"data/diabetes.csv\")\n",
    "    \n",
    "    # Log some basic metrics\n",
    "    row_count = df.shape[0]\n",
    "    \n",
    "    # Unlike AzureML's native logging functions, which append value to each metric, MLflow doesn't \n",
    "    # allow changing the value assigned to each key. Additionally, log_metric only supports float value\n",
    "    mlflow.log_metric(\"observations\", row_count)  # Log a number\n",
    "    # Use log_param for other types of data that need to be logged\n",
    "    mlflow.log_param(\"columns\", df.columns)\n",
    "    \n",
    "    cat_cols = [\"Pregnancies\"]\n",
    "    num_cols = ['PlasmaGlucose', 'DiastolicBloodPressure', 'TricepsThickness', 'SerumInsulin', 'BMI']\n",
    "    mlflow.log_param(\"categorical columns\", cat_cols)\n",
    "    mlflow.log_param(\"numerical columns\", num_cols)\n",
    "\n",
    "    # Log some image output\n",
    "    import matplotlib.pyplot as plt\n",
    "\n",
    "    diabetic_counts = df['Diabetic'].value_counts()\n",
    "\n",
    "    fig = plt.figure(figsize=(6,6))\n",
    "    ax = fig.gca()    \n",
    "    diabetic_counts.plot.bar(ax = ax) \n",
    "    ax.set_title('Patients with Diabetes') \n",
    "    ax.set_xlabel('Diagnosis') \n",
    "    ax.set_ylabel('Patients')\n",
    "    \n",
    "    mlflow.log_figure(fig, \"img_log.png\")  # Log an image\n",
    "\n",
    "    # Log some file\n",
    "    os.makedirs(\"outputs\", exist_ok=True)\n",
    "    df.sample(100).to_csv(\"outputs/sample.csv\", index=False)\n",
    "    \n",
    "    mlflow.log_artifact(\"outputs/sample.csv\")"
   ]
  },
  {
   "cell_type": "markdown",
   "id": "52adc5c6",
   "metadata": {},
   "source": [
    "My first impression is that that Azure ML has better support for its native logging functionalities, compared to MLflow. But MLflow is pretty good as well."
   ]
  },
  {
   "cell_type": "markdown",
   "id": "54185174",
   "metadata": {},
   "source": [
    "### Method 4: Running an experiment from script with MLflow\n",
    "\n",
    "The last method of running an experiment is really identical to the previous one. We simply write the code into a `.py` file and submit it similar to what we do with the native logging method. The only difference is that we no longer need to specify the Workspace context. It's pretty amazing how MLflow can *just work* without us even  specifying the run context (like `Run.get_context()` with Azure native run).\n",
    "\n",
    "Also, it logs the `outputs` folder automatically. I believe this is a feature of `ScriptRunConfig`"
   ]
  },
  {
   "cell_type": "code",
   "execution_count": 3,
   "id": "b60ab98e-8670-4dc4-adc4-c81da82b90a8",
   "metadata": {},
   "outputs": [],
   "source": [
    "from azureml.core import Experiment, Environment, ScriptRunConfig\n",
    "from azureml.core.conda_dependencies import CondaDependencies\n",
    "\n",
    "# Set up python environment\n",
    "basic_env = Environment(\"pandas-env\")\n",
    "basic_env.python.conda_dependencies = CondaDependencies.create(pip_packages=[\"pandas\", \"mlflow\"])\n",
    "basic_env.python.user_managed_dependencies = True\n",
    "\n",
    "# Specify script and environment\n",
    "script_config = ScriptRunConfig(\n",
    "    source_directory=\"./diabetes-local-mlflow-experiment\",\n",
    "    script=\"diabetes_mlflow_experiment.py\",\n",
    "    environment=basic_env,\n",
    ")\n",
    "\n",
    "# Create experiment\n",
    "experiment = Experiment(workspace=ws, name=\"diabetes-local-mlflow\")\n",
    "\n",
    "# Run experiment\n",
    "run = experiment.submit(config=script_config)\n",
    "run_details = run.wait_for_completion(show_output=False)"
   ]
  },
  {
   "cell_type": "code",
   "execution_count": null,
   "id": "162e897d-4179-4708-8081-d2ec4d409de9",
   "metadata": {},
   "outputs": [],
   "source": []
  }
 ],
 "metadata": {
  "kernelspec": {
   "display_name": "Python 3",
   "language": "python",
   "name": "python3"
  },
  "language_info": {
   "codemirror_mode": {
    "name": "ipython",
    "version": 3
   },
   "file_extension": ".py",
   "mimetype": "text/x-python",
   "name": "python",
   "nbconvert_exporter": "python",
   "pygments_lexer": "ipython3",
   "version": "3.6.13"
  }
 },
 "nbformat": 4,
 "nbformat_minor": 5
}
