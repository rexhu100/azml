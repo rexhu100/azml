{
 "cells": [
  {
   "cell_type": "code",
   "execution_count": 2,
   "id": "15951bb3-26eb-42e2-8405-7e2d380f0e9b",
   "metadata": {},
   "outputs": [
    {
     "name": "stdout",
     "output_type": "stream",
     "text": [
      "Working in Azure workspace azml-sdk with version 1.30.0\n"
     ]
    }
   ],
   "source": [
    "import azureml.core\n",
    "from azureml.core import Workspace\n",
    "\n",
    "ws = Workspace.from_config()\n",
    "\n",
    "print(f\"Working in Azure workspace {ws.name} with version {azureml.core.VERSION}\")"
   ]
  },
  {
   "cell_type": "markdown",
   "id": "3b3c7ea1-4670-4ca3-9fb8-f5f858a126bc",
   "metadata": {},
   "source": [
    "### Method 3: Running an experiment interactively with MLflow\n",
    "\n",
    "MLflow is an alternative to the native log functions. It is a platform agnostic framework for end2end ML work flow. "
   ]
  },
  {
   "cell_type": "code",
   "execution_count": null,
   "id": "51200c0f-a968-4ca3-9e3c-197d8a6d0659",
   "metadata": {},
   "outputs": [],
   "source": [
    "from azureml.core import Experiment\n",
    "import pandas as pd\n",
    "import mlflow\n",
    "\n",
    "mlflow.set_tracking_uri(ws.get_mlflow_tracking_uri())\n",
    "\n",
    "print(ws.get_mlflow_tracking_uri())\n",
    "\n",
    "experiment = Experiment(workspace=ws, name=\"diabetes-local-mlflow\")\n",
    "mlflow.set_experiment(experiment.name)\n",
    "\n",
    "with mlflow.start_run():\n",
    "    print(f\"Starting experiment: {experiment.name}\")\n",
    "    \n",
    "    df = pd.read_csv(\"data/diabetes.csv\")\n",
    "    \n",
    "    \n",
    "    # Log some basic metrics\n",
    "    row_count = df.shape[0]\n",
    "    mlflow.log_metric(\"observations\", row_count)  # Log a number\n",
    "#     for col in df.columns:\n",
    "#         mlflow.log_param(\"data columns\", col)  # Log a list of strings\n",
    "#     mlflow.log_metric(\"categorical columns\", cat_cols)\n",
    "#     mlflow.log_metric(\"numerical columns\", num_cols)\n",
    "\n",
    "#     # Log descriptive statistics\n",
    "#     summary_stats = df[num_cols].describe().to_dict()\n",
    "#     for col_name, stat_dict in summary_stats.items():\n",
    "#         for stat_name, val in stat_dict.items():\n",
    "#             run.log_row(col_name, stat=stat_name, value=val)  # Logging rows\n",
    "\n",
    "\n",
    "#     # Log some image output\n",
    "#     import matplotlib.pyplot as plt\n",
    "\n",
    "#     diabetic_counts = df['Diabetic'].value_counts()\n",
    "\n",
    "#     fig = plt.figure(figsize=(6,6))\n",
    "#     ax = fig.gca()    \n",
    "#     diabetic_counts.plot.bar(ax = ax) \n",
    "#     ax.set_title('Patients with Diabetes') \n",
    "#     ax.set_xlabel('Diagnosis') \n",
    "#     ax.set_ylabel('Patients')\n",
    "\n",
    "#     run.log_image(name='label distribution', plot=fig)  # Log an image\n",
    "\n",
    "#     # Log some file\n",
    "#     os.makedirs(\"output\", exist_ok=True)\n",
    "#     df.sample(100).to_csv(\"output/sample.csv\", index=False)"
   ]
  }
 ],
 "metadata": {
  "kernelspec": {
   "display_name": "Python 3",
   "language": "python",
   "name": "python3"
  },
  "language_info": {
   "codemirror_mode": {
    "name": "ipython",
    "version": 3
   },
   "file_extension": ".py",
   "mimetype": "text/x-python",
   "name": "python",
   "nbconvert_exporter": "python",
   "pygments_lexer": "ipython3",
   "version": "3.6.13"
  }
 },
 "nbformat": 4,
 "nbformat_minor": 5
}
